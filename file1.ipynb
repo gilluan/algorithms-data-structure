{
  "nbformat": 4,
  "nbformat_minor": 0,
  "metadata": {
    "colab": {
      "name": "Untitled0.ipynb",
      "provenance": [],
      "include_colab_link": true
    },
    "kernelspec": {
      "name": "python3",
      "display_name": "Python 3"
    }
  },
  "cells": [
    {
      "cell_type": "markdown",
      "metadata": {
        "id": "view-in-github",
        "colab_type": "text"
      },
      "source": [
        "<a href=\"https://colab.research.google.com/github/gilluan/algorithms-data-structure/blob/master/file1.ipynb\" target=\"_parent\"><img src=\"https://colab.research.google.com/assets/colab-badge.svg\" alt=\"Open In Colab\"/></a>"
      ]
    },
    {
      "cell_type": "markdown",
      "metadata": {
        "id": "a-fKKUVUkqx5",
        "colab_type": "text"
      },
      "source": [
        "Stack"
      ]
    },
    {
      "cell_type": "code",
      "metadata": {
        "id": "__FkHC0Qkn70",
        "colab_type": "code",
        "colab": {}
      },
      "source": [
        "# Pilhas - FILO\n",
        "\n",
        "class Stack:\n",
        "  def __init__(self):\n",
        "    self.stack = []\n",
        "\n",
        "  def push(self, e):\n",
        "    self.stack.append(e)\n",
        "\n",
        "  def pop(self):\n",
        "    if not self.empty():\n",
        "      self.stack.pop(len(self.stack) - 1)\n",
        "\n",
        "  def top(self):\n",
        "    if not self.empty()\n",
        "      return self.stack[-1]\n",
        "    return None  \n",
        "\n",
        "  def empty(self):\n",
        "    if(len(self.stack) == 0):\n",
        "      return True\n",
        "    return False\n",
        "\n",
        "  def length(self):\n",
        "    return len(self.stack)\n",
        "\n",
        "\n",
        "s = Stack()\n",
        "print(s.empty())\n",
        "s.push(1)\n",
        "s.push(2)\n",
        "s.push(3)\n",
        "\n",
        "print(s.top())\n",
        "print(s.empty())\n",
        "s.pop()\n",
        "print(s.top())"
      ],
      "execution_count": 0,
      "outputs": []
    }
  ]
}